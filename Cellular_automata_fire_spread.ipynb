{
 "cells": [
  {
   "cell_type": "markdown",
   "metadata": {},
   "source": [
    "# Fire.ipynb - iPython file for Module 10.3, \"Spreading of Fire\"\n",
    "\n",
    "Introduction to Computational Science: Modeling and Simulation for the Sciences, 2nd Edition Angela B. Shiflet and George W. Shiflet Wofford College © 2014 by Princeton University Press"
   ]
  },
  {
   "cell_type": "code",
   "execution_count": 1,
   "metadata": {
    "collapsed": true
   },
   "outputs": [],
   "source": [
    "%matplotlib inline"
   ]
  },
  {
   "cell_type": "code",
   "execution_count": 2,
   "metadata": {
    "collapsed": true
   },
   "outputs": [],
   "source": [
    "import numpy as np\n",
    "import matplotlib\n",
    "import matplotlib.pyplot as plt\n",
    "import matplotlib.image as mpimg\n",
    "import matplotlib.animation as animation\n",
    "from IPython.display import HTML  # for embedded matplotlib animation\n",
    "from math import *\n",
    "from random import *\n",
    "\n",
    "matplotlib.rc('animation', html='html5')"
   ]
  },
  {
   "cell_type": "markdown",
   "metadata": {},
   "source": [
    "# Development of Fire Program"
   ]
  },
  {
   "cell_type": "markdown",
   "metadata": {},
   "source": [
    "## constants\n",
    "Grid-site values:\n",
    "\tEMPTY (0)     - empty\n",
    "\tTREE (1)         - non-burning tree\n",
    "\tBURNING (2) - burning tree\n",
    "    \n",
    "probTree = probability of grid site occupied by tree (value 1); i.e., tree density\n",
    "\n",
    "probBurning = probability that a tree is burning (value 2); i.e., fraction of burning trees\n",
    "\n",
    "probImmune = probability of immunity from catching fire\n",
    "\n",
    "probLightning = probability of lightning"
   ]
  },
  {
   "cell_type": "code",
   "execution_count": 3,
   "metadata": {
    "collapsed": true
   },
   "outputs": [],
   "source": [
    "global EMPTY, TREE, BURNING\n",
    "EMPTY = 0\n",
    "TREE = 1\n",
    "BURNING = 2"
   ]
  },
  {
   "cell_type": "markdown",
   "metadata": {},
   "source": [
    "## initialization"
   ]
  },
  {
   "cell_type": "markdown",
   "metadata": {},
   "source": [
    "## Function to return an n-by-n grid of values (EMPTY (no tree), TREE (non-burning tree), or BURNING (burning tree)), where probTree is the probability of a tree and  probBurning is the probability that the tree is burning\n",
    "Pre:\tn is the size (number of rows or columns) of the square grid and is positive.\n",
    "\tprobTree is the probability that a site is initially occupied by tree.  \n",
    "\tprobBurning is the probability that a tree is burning initially. \n",
    "    \n",
    "Post:\t A grid as described above was returned."
   ]
  },
  {
   "cell_type": "code",
   "execution_count": 4,
   "metadata": {
    "collapsed": true
   },
   "outputs": [],
   "source": [
    "def initForest(n, probTree, probBurning):\n",
    "    forest = np.zeros((n, n))\n",
    "    for i in range(0, n):\n",
    "        for j in range(0, n):\n",
    "            if (random() < probTree):\n",
    "                if (random() < probBurning):\n",
    "                    forest[i, j] = BURNING\n",
    "                else:\n",
    "                    forest[i, j] = TREE\n",
    "            else:\n",
    "                forest[i, j] = EMPTY\n",
    "    return forest"
   ]
  },
  {
   "cell_type": "markdown",
   "metadata": {},
   "source": [
    "## Function to return the value of a site at the next time step \n",
    "An empty cell remains empty. A burning cell becomes empty. If a neighbor to the north, east, south, or west of  a tree is burning, then the tree does not burn with a probability of probImmune. If a tree has no burning neighbors, it is hit by lightning and burns with a probability of probLightning * (1 - probImmune)."
   ]
  },
  {
   "cell_type": "code",
   "execution_count": 5,
   "metadata": {
    "collapsed": true
   },
   "outputs": [],
   "source": [
    "def spread(site, N, E, S, W, probLightning, probImmune):\n",
    "    if (site == EMPTY):\n",
    "        newSite = EMPTY\n",
    "    else:\n",
    "        if (site == BURNING):\n",
    "            newSite = EMPTY\n",
    "        else:\n",
    "            if (N == BURNING or E == BURNING or S == BURNING or W == BURNING):\n",
    "                if (random() < probImmune):\n",
    "                    newSite = TREE\n",
    "                else:\n",
    "                    newSite = BURNING\n",
    "            else:\n",
    "                if (random() < probLightning * (1 - probImmune)):\n",
    "                    newSite = BURNING\n",
    "                else:\n",
    "                    newSite = TREE\n",
    "    return newSite"
   ]
  },
  {
   "cell_type": "markdown",
   "metadata": {},
   "source": [
    "## Function to accept a grid and to return a grid extended one cell in each direction with periodic boundary conditions\n",
    "Pre:\tlat is a grid.\n",
    "\n",
    "Post:\tA grid extended one cell in each direction with periodic boundary conditions was returned."
   ]
  },
  {
   "cell_type": "code",
   "execution_count": 6,
   "metadata": {
    "collapsed": true
   },
   "outputs": [],
   "source": [
    "def reflectingLat(lat):\n",
    "    latNS = np.row_stack((lat[0], lat, lat[-1]))\n",
    "    return np.column_stack((latNS[:,0], latNS, latNS[:,-1]))"
   ]
  },
  {
   "cell_type": "markdown",
   "metadata": {},
   "source": [
    "## Function to apply a function parameter to a matrix extended by 1 cell in each direction\n",
    "Function returns a matrix of applications of function spread[site, N, E, S, W, probLightning, probImmune] to each element (site) of extended matrix latExtended except for the first and last rows and columns"
   ]
  },
  {
   "cell_type": "code",
   "execution_count": 7,
   "metadata": {
    "collapsed": true
   },
   "outputs": [],
   "source": [
    "def applyExtended(latExt, probLightning, probImmune):\n",
    "    n = latExt.shape[0] - 2\n",
    "    newLat = np.zeros((n, n))    \n",
    "    \n",
    "    for i in range(1, n + 1):\n",
    "        for j in range(1, n + 1):\n",
    "            site = latExt[i, j]\n",
    "            N = latExt[i - 1, j]\n",
    "            E = latExt[i, j + 1]\n",
    "            S = latExt[i + 1, j]\n",
    "            W = latExt[i, j - 1]\n",
    "            newLat[i - 1, j - 1] = spread(site, N, E, S, W, probLightning, probImmune)\n",
    "    return newLat"
   ]
  },
  {
   "cell_type": "markdown",
   "metadata": {},
   "source": [
    "## Function to return a list of grids in a simulation of the spread of fire in a forest, where a cell value of EMPTY indicates the cell is empty; TREE, the cell contains a non-burning tree; and BURNING, a burning tree\n",
    "Pre:\n",
    "\tn is the size (number of rows or columns) of the square grid and is positive.   \n",
    "\tprobTree is the probability that a site is initially occupied by tree.      \n",
    "\tprobBurning is the probability that a tree is burning initially.     \n",
    "\tprobLightning is the probability of lightning hitting a site.    \n",
    "\tprobImmune is the probability of a tree being immune from catching fire.      \n",
    "\tt is the number of time steps.    \n",
    "\tspread is the function for the updating rules at each grid point.\n",
    "    \n",
    "Post:\t\n",
    "\tA list of the initial grid and the grid at each time step was returned."
   ]
  },
  {
   "cell_type": "code",
   "execution_count": 8,
   "metadata": {
    "collapsed": true
   },
   "outputs": [],
   "source": [
    "def fire(n, probTree, probBurning, probLightning, probImmune, t):\n",
    "    forest  = initForest( n, probTree, probBurning )\n",
    "    \n",
    "    # Perform simulation\n",
    "    grids = np.zeros((t + 1, n, n))\n",
    "    grids[0, :, :] = forest\n",
    "    for i in range(1, t + 1):\n",
    "        forestExtended = reflectingLat(forest)\n",
    "        forest = applyExtended(forestExtended, probLightning, probImmune)\n",
    "        grids[i, :, :] = forest\n",
    "    return grids"
   ]
  },
  {
   "cell_type": "markdown",
   "metadata": {},
   "source": [
    "## Set up formatting for the movie files"
   ]
  },
  {
   "cell_type": "code",
   "execution_count": 9,
   "metadata": {
    "collapsed": true
   },
   "outputs": [],
   "source": [
    "Writer = animation.writers['ffmpeg']\n",
    "writer = Writer(fps=15, metadata=dict(artist='Me'), bitrate=1800)"
   ]
  },
  {
   "cell_type": "markdown",
   "metadata": {},
   "source": [
    "## Function to display a list of grids with cell values colored as follows:  EMPTY -> yellow, TREE -> green, BURNING -> burnt orange"
   ]
  },
  {
   "cell_type": "code",
   "execution_count": 10,
   "metadata": {
    "collapsed": true
   },
   "outputs": [],
   "source": [
    "def makeColorGrid(grid):\n",
    "    n = grid.shape[0]\n",
    "    colorGrid = np.zeros((n, n, 3))\n",
    "    colorGrid[:, :, 0] = 1\n",
    "    colorGrid[:, :, 1] = 1\n",
    "    for i in range(0, n):\n",
    "        for j in range(0, n):\n",
    "            if (grid[i, j] == TREE):\n",
    "                colorGrid[i, j, 0] = 0.1\n",
    "                colorGrid[i, j, 1] = 0.75\n",
    "                colorGrid[i, j, 2] = 0.02\n",
    "            if (grid[i, j] == BURNING):\n",
    "                colorGrid[i, j, 0] = 0.6\n",
    "                colorGrid[i, j, 1] = 0.2\n",
    "                colorGrid[i, j, 2] = 0.1                \n",
    "    return colorGrid"
   ]
  },
  {
   "cell_type": "markdown",
   "metadata": {},
   "source": [
    "## Run program for several simulations\n",
    "After each simulation, display animations of bacteria grids and nutrient grids with code below."
   ]
  },
  {
   "cell_type": "code",
   "execution_count": 11,
   "metadata": {
    "collapsed": true
   },
   "outputs": [],
   "source": [
    "seed(1)\n",
    "grids = fire(15, 0.8, 0.001, 0.001, 0.3, 20)"
   ]
  },
  {
   "cell_type": "code",
   "execution_count": 12,
   "metadata": {
    "collapsed": true
   },
   "outputs": [],
   "source": [
    "grids = fire(20, 0.5, 0.5,0.5, 0.5, 5)"
   ]
  },
  {
   "cell_type": "code",
   "execution_count": 13,
   "metadata": {
    "collapsed": true
   },
   "outputs": [],
   "source": [
    "grids = fire(20,0.3,0.01,0,0,15)"
   ]
  },
  {
   "cell_type": "code",
   "execution_count": 24,
   "metadata": {
    "collapsed": true
   },
   "outputs": [],
   "source": [
    "grids = fire(20,0.7,0.2,0.01,0.3,25)"
   ]
  },
  {
   "cell_type": "markdown",
   "metadata": {},
   "source": [
    "## display a list of grids with cell values in color"
   ]
  },
  {
   "cell_type": "code",
   "execution_count": 25,
   "metadata": {},
   "outputs": [
    {
     "data": {
      "image/png": "[encoded data removed]",
      "text/plain": [
       "<matplotlib.figure.Figure at 0x10d070940>"
      ]
     },
     "metadata": {},
     "output_type": "display_data"
    },
    {
     "data": {
      "text/html": [
       "<video width=\"432\" height=\"288\" controls autoplay loop>\n",
       "  <source type=\"video/mp4\" src=\"data:video/mp4;base64,AAAAHGZ0eXBNNFYgAAACAGlzb21pc28yYXZjMQAAAAhmcmVlAABNrm1kYXQAAAKhBgX//53cRem9\n",
       "5tlIt5Ys2CDZI+7veDI2NCAtIGNvcmUgMTM4IC0gSC4yNjQvTVBFRy00IEFWQyBjb2RlYyAtIENv\n",
       "cHlsZWZ0IDIwMDMtMjAxMyAtIGh0dHA6Ly93d3cudmlkZW9sYW4ub3JnL3gyNjQuaHRtbCAtIG9w\n",
       "dGlvbnM6IGNhYmFjPTEgcmVmPTMgZGVibG9jaz0xOjA6MCBhbmFseXNlPTB4MzoweDExMyBtZT1o\n",
       "ZXggc3VibWU9NyBwc3k9MSBwc3lfcmQ9MS4wMDowLjAwIG1peGVkX3JlZj0xIG1lX3JhbmdlPTE2\n",
       "IGNocm9tYV9tZT0xIHRyZWxsaXM9MSA4eDhkY3Q9MSBjcW09MCBkZWFkem9uZT0yMSwxMSBmYXN0\n",
       "X3Bza2lwPTEgY2hyb21hX3FwX29mZnNldD0tMiB0aHJlYWRzPTEyIGxvb2thaGVhZF90aHJlYWRz\n",
       "PTIgc2xpY2VkX3RocmVhZHM9MCBucj0wIGRlY2ltYXRlPTEgaW50ZXJsYWNlZD0wIGJsdXJheV9j\n",
       "b21wYXQ9MCBjb25zdHJhaW5lZF9pbnRyYT0wIGJmcmFtZXM9MyBiX3B5cmFtaWQ9MiBiX2FkYXB0\n",
       "PTEgYl9iaWFzPTAgZGlyZWN0PTEgd2VpZ2h0Yj0xIG9wZW5fZ29wPTAgd2VpZ2h0cD0yIGtleWlu\n",
       "dD0yNTAga2V5aW50X21pbj0yMCBzY2VuZWN1dD00MCBpbnRyYV9yZWZyZXNoPTAgcmNfbG9va2Fo\n",
       "ZWFkPTQwIHJjPWNyZiBtYnRyZWU9MSBjcmY9MjMuMCBxY29tcD0wLjYwIHFwbWluPTAgcXBtYXg9\n",
       "NjkgcXBzdGVwPTQgaXBfcmF0aW89MS40MCBhcT0xOjEuMDAAgAAAGIJliIQAN//+9vD+BTY7mNCX\n",
       "Ec3onTMfvxW4ujQ3vc4AAAMAADfc5kT+ypMG5sAAAuCYLsvg6MpACpC0WE56sSc+v2s8U3XEkOgP\n",
       "ZYuM8fEzQNRutFadBwivFOMZyM3wkukLskvq6P3aCe3/fFCkm7bdhGsAYeib/nNB6+K/y+Pxaygm\n",
       "4dCgPeqqCK015LxQCGUojQ1pgIJJ3ygZUvyHcSUDsvFDCdCrpgx08jIH86T5abdjU1CfCXzuyh8j\n",
       "OqbQOBv1CddK1aiVoyLXcB/hDVts0Pkra6CLqcOwEfqaaq+5rw5AQ9HEkq0LvgHQch0R4KvVvZFW\n",
       "apdEebW41AzTqCesdA8bgAH/wUqZD69LeJbrE4TU/MnVdyEIOdXLuY8iRiON57K0Ns21itcF836/\n",
       "v0D/8TKL/xCB/womfggf6IhLcd9/P/1zNirhVKvGK2aDO9yoLXp5Yz3Gw9vsB0QEhRURQWTB2zfc\n",
       "wcclEVm+Lj37EKi4JhpvkTYyJy32PHmMap2PcOPWt4LdZX4nzUUsdxJoMN5SNRfL8baJzM66RCGP\n",
       "L3UIeSEJREnHPJc8SwsImaweOnd2tlXtfkEpyMio3ts8zHjmlfNWysIeRFDk7Lk3HpHlYQY6nfar\n",
       "L67O1Hbgm4AKq7kSY2vdoQzmfSq53XQW0BZ438MJZ+aJVob4HVF6oc1RHPS5yw3e01XDpzRZFusA\n",
       "zBP3zwZR5GkqcAWgvgxlQ3yD3b2PaPs/B7TDVw2SQxVCFs+4l/BW0Jb30j1z/S53hLnSCdO3G7lp\n",
       "3KM13kEksq2o5kM0aAC9xAmG+8Udc6lMDQ9IwemYKgDlktFg97ToaOPveehvlJYfxMoSJxSNNHfy\n",
       "eb2aMl57oWUvMWdbNZzL3KZEQRarDo3LYIe8mxgwLz5PCOWgd2FJF9jXDQPk9OmKKnQRWqm0Ga53\n",
       "waREo3y8SXp8BjdzEtlJ285fSIupPuDZG8cx0l3bqbB1S51up1Rp+Vpr7t8FUe9wdDAIXXzFBVp9\n",
       "50xkqdWLhTQiPT1qhUfE6xx/rCkMqLBpi8I6s78oN6LRPQ13GKm7fEIaxMmyhyvSm9p1q6xDG5u7\n",
       "HrTqQi8Clzk1c1rim1pwzX7ReBaeMG9pvftpnS6vR/lygrLey+nb9drG/zHED+uXjz10ds/4fi5Z\n",
       "Gd640jcrErbtB91VzjElu+2Q/psMtPzOYXpBdGOev3VhYXbYZEq6tSQccOcxv2G/2L7+FO5ngRqf\n",
       "b6bLhVa/XqgYtw6G9/nSlokZng9y3VQ0J+54KbdtOONjOZ+TFyfoy4sQMwIttCKnhlxCaFyDIyzV\n",
       "Z9UGM/9J5HAkehS0OotKSnyZ2+I36QRJ+bLes8iTD6ObARta/oWyUlD/FOfYO9QvQn65PhBAKMV/\n",
       "doSyx/n1p6chCeE1uJDgRip9/MfrYfFNdsG80WpqRzddADUKDt/rdGVkVrqlrKU6pDJnqiXahloR\n",
       "Xtp+Yt3qPs4J+s+G58LH4t5eCRoz+rgi/5fZKr0nEc7cHi507Exn+vs3udd1qYHvYHzr1AyOiYZG\n",
       "LqZjwfawd/JqhUJ1wIXbmTrZW3z4xiZJkaI7DJtELai3Vp/1f6c/C/XfI7qDxfZUvl4nOgvY10u0\n",
       "ZFNVka99yFgz6Pto2JXKFTJmu7+91xhrWp6eprE/aju9P1TQZ42FdSdcuLAX5KqWZzqGryK/4qDQ\n",
       "iLdrIfx1hrGpdTijRR6zj+vAX9oM/gnXlc6nL2CD6mw4CI0WYADCr2baZbn0FJpQ1jKZdSWT2AcP\n",
       "V5fDEE/CRHRoESByqc1VrYx3wNKMdAbK4SeRICqKBSFJVveZ0OENIY/gAfQ/FseYS6tmduPJV3FY\n",
       "0kJzoM/rmV+H9FbMxMoVvJN9s7KLmZ/wBYOh8SXrURH+Shfh0WQluuKtazLcOOM1l887w7I6uc79\n",
       "hePYBSDpvwDdJNX0jypb9dibuDNmBBFf/r+pqN4/FujvsIYI9X0tUATjNzCWms6ztR5wnkgAWEyY\n",
       "YlSsOJw/LcBXGlT6ZwF1NGMqhWbCvD/Q9VnXsUSy8hPUZQAmGZCEizWzjw/csDsVhZQesDGLFTN/\n",
       "Klnpmix3abwOD2LMfuxBq3KbVpowYL8CoAIGLLQEFMwWpDtbwEoavrdd2JVDOpcn853BJtQv2iP4\n",
       "SyKZaCDXWf4JWdIWRgChG2BdvWK8VtZD+dklkAk5jTVpNp5Yzq+5rUGLkwKqMivfY+rGe3gimUhY\n",
       "vaptxu+/0Hl59XonlifJeGBU3J8zR+/vElohq8Zpciff+BibhF5m+QjjQzPCF65PgcnfjAA2VEaj\n",
       "0PRsBy57WBWxmedWOUHz7fiX8KbIRS7Pe9DC0k82St6511zpsdZRVsQbbF/Wim6g3TRYACJqE3lH\n",
       "CPzxIKQavDnRKFgwlPaU/axdDBzUMBrJ+f5Sf0Oj+cqSJ9KMLC4SY+dn4fP+90IpF3ul1lazcbZG\n",
       "gi6XLhWia8mBBj7+PXZX1AhGSvff8QhvVqiljNzHrCK2J04DRLlurk+ZpA3/idup+/SEO+cJebW1\n",
       "DxEVmrFeIta73eX1gocAk46WXSX8NcMH9sU4PFm50Wz+ZUP/fNgMRgaf9H4llNVK9WodgklFRdeL\n",
       "rn4j5lZi+3H9UlWQB6uJn+XDgtWKWQ+TWIo1fY+5Nazc0cKj+hKWuXnSOPffP6gNyITUTtE1DxS7\n",
       "N7WmU4aczU9wpRgsM58bl8QXd8OOIjZgV2BLPVxlS1HirN9KEJ2Q3jL90UntpSMi8CH6W5h3lOCy\n",
       "X3+QmPvdF+P8kp8nTVc/1pdlwcwoghueSNP+PNG6pJpwsT7w4LreLbWDjjygMwq1MDJElrkIT8g2\n",
       "dXRJ3Y78+aXM3tVRYSEsPOJQWcVQa5QrSrAu23kjl4hE3KCUpLxpmfpETWUP+gtkfpTQ7ShPC2St\n",
       "Cb6sX7seebctCz0joNqqueeL/qEyzpJg7ftIig7CfTOb9poT/CSEIDx91WdZYBlk72meRzbpOEKM\n",
       "qBFSRCqnbf4NLY/caakb5Ug40epS2Qt6+q2vM7MvyclwJbDtzvzIPjIfr0mvT/hpg5eKNz4H2Ami\n",
       "oOzeB0hZ7PLebzXHL7yRHPM6y4v/YOKg7TGgf/8TnRb+JyqETcoSHrBOKZyxNDZLlih4iSlwh6su\n",
       "xo5ldM0goSO/C/t45Se0ZfVuKh0uJVAP5shPZSt7s/OAeJJKoHTjj1rUz+WIv/Bgwax948REGbQr\n",
       "+qTG/cIa2pgek4doxqfzcuykM4wpbfxzvySJaJIpQdqq2XODAV79/WTLt0zPhwXZ6rbQaMgJPkK2\n",
       "1Zg5xqi11mma2VvocxkbWiNfl4rOBlSDK+dL46tY8OXf70XpYiIlhlM9kzSSpdN5LBQZo+84TFOD\n",
       "q8b6400rGZICzMC2tS3IyCNu1/WQcKLolEH/nSk1EKvtT2rmEoRFkD7/YGevJ5mASfpbR7yaVLIo\n",
       "pYMl15z3OE3e7BGjYZ1SqdtLn7DZOYzHnBAF+qR3yV+hl9NCdKJUkwwpkbIMfODfp8vPUl54Z8MD\n",
       "vPrw5XWUjSU5l4ZeqE2H9dXdj25TAfSmaTUYUqB+Ghu7EaYFswbIXsXJ6ydkIkHlasT5jGmXa2pp\n",
       "zC0ujNwpiPutEKswogEKHX775MsL+BiEcjzINh+lVAMY58iY5iUjCCx/4PTPtRheufjfnkhyGpaY\n",
       "EtY/hNq9c2g2pW2PAxCszgmXznll3bgdjR6Sd6SzWYIxqwn9iCBXNkKztZZ5RWjpOVhmSqjVaLE0\n",
       "snD0wB86U2ee1y9vs+vt9B5htP3ext673VY+iyKXA9ylx+5n9HKWUHk7fSwvWDbbC6Svcmp2NxXU\n",
       "3BQnP/vED8EaHriBJnldiVxxJ8/mTCf5yoxirHQPjI3goqI93KflL9CdLc7u0Kdh7xMVR83kVdtG\n",
       "M58SJY51faEzSUSlKyhhrA3l//DKl4V9a+1yMjzWqLPcXUznMXh9oButgoLb70q84B02/fyyRBcn\n",
       "xQViTRq5a5n2/6HTC4/MLsFfZ6X3DS/rrJEuaQTlB9i94v+IUaP/Kr6D1qmnN8Y1LxDzD9LhdaLT\n",
       "94aPDgRmxDPNouuadZH59nSm+l5OB9tkl2cXLzw1rYjN5UXDThqZnNqrcipMakcnbA7C0ATIuTlU\n",
       "SKFT7f3gL9Ippln+S9PeC/VLYUSbUNxn/h5wUi3eMQWu1hTYr8tVXB3r6KURykIJlpjORWX3AnQF\n",
       "xbqI+xeGSf9uLuzMMc9Lc0gI/yTlf5jqf+eiE7QyeKvnt+bOnjk+IGWGow5ZpB1Id/8WBZvS3uuB\n",
       "k2mnQCQpuln7/UrbygdIWTRQjHHDgH/SBEMw8x2Bu1hsuNEgPIZE+YlhNfnYfUccgBEPKh9E3JYn\n",
       "fFBuxOLHaZlN2mmYmvgD1pKL/FCYEiGn6bs2dIm60UBD3wyL8jSsS+ILe0+40UQEbSL7MTnAXIDc\n",
       "Y3jjz8mPeyfrTctPaqldUmCdkKX2/Vp+jDIe52MuL/2aGa0iEtwYVbXc2/CFwYCE1J0AVivSrVOD\n",
       "wNbJiJbpInCGIzfZ1bnmBFTat4zv2K5h/pWoufO0gM8TTx4OXyA+WIedaVCWKTwiRHSZkiqlmfih\n",
       "3wdkwZ48vHX/EV0rYqXqG3dAe9g4fuvQUosb87rEma3ZDSxsko6gW2bCUYzrSqsB4b1x/7a0xbO3\n",
       "NsAEJRLUlPzySjbmvV3InRPU5WT45CrEwXevBjSUfWpPnLdvATDr+jS7QtqM9RvsXG9yp5/Jze39\n",
       "t/DDx2FHvLd9IoVbuR5vHv7gLJleAlk3i1nTaHkzoZleWq7+j4TCzmTQBJGiojDJeRXXF8WomHFQ\n",
       "jHLAlfo3mysRCGO6DofbfCgGwj7nVQiTKWirUdhGGp4CqOLnDDdp0TrYWYj1fE4kDi/1CMhox3ye\n",
       "5QRzRHtlEcZn6Wuw94fhzlhGJyY6qeCLWu0PrnTJtw49ms5fkA5Oe0vBFjHw3q0feGnx1WOe416t\n",
       "HLSEYNm7sszO1BiOLRgMnd8a98XdT+gXT+9TvfYJTNKFMX357UXxqnOoGf29Co2arZ4p5mui023T\n",
       "9ZB2peof0sNU/09FEa/ZbIfnPPIHkdGaOShIlfA2Ne8Fkf7YQL1ayT5nqd6q3zZZ8wHkHPCLraOk\n",
       "K0XHLKdtg0GT4wLIeP2j3i3FIw2hZuQ1j07wmg3Ohe/+3fgC31o0MptWYakEgi0yv7NfyAOoWi7h\n",
       "2ajvZHMyW3uCP1umdqp4Ob/yXVXRuYyVM3x2HiYqi6QSjWMRcEqxA1v0MJ9Qk658qy5gxNEOlEeP\n",
       "vBA9k+3w5cUN7Bw8ggZPcysTbB6FaxSLYjdOC6Iz/Mo36oWLD8L6UBxARVv8i/IhAUpFr8+BIauj\n",
       "bpDiHNiTeKsj68SL4+0Vjk0XvcVZ1E5JmlYdZn0cKwoqt/7H/qJ7tdsCbmLQquj9OyFcW5+Za+I9\n",
       "RNHShQWBglnMrHKRkQD9V5HJZnOe6z+umhEP/vNNJ9NzrfAMKZ1J91qM8JoAulaeGmIEVgwcLU+Q\n",
       "ymyvmdKdbhn0EqfnRPYepP5n9fPXGd1ZoJxPO2OWNZQCDhZMjog47wiN+YMuxRv/DHVPqgw7O8pJ\n",
       "AOiaJH448GrumnJMZ3eMDxS5tVWyJtaXo8+bQaeBFQdO2DYzjZMRVGwvlhcO/Qh8rPsfgrO0phey\n",
       "LgEHztk24IuQo4I/vBQV3HM1oahe5q/pGqwzUi+9aK2I802cyCPuF+QjH/nDkJmpDWSNOW3oUhn6\n",
       "BvCLMOaQH6xCTpmbPEJqNbRifIw5nH2Nmy88rXCI+lQFJo0M63yK1fwlQ25Yb/CqXgN/rKjqV+m3\n",
       "hqOkYH8EzNkzhfYmn9/itPubudqdwX+5FCc5pHUjLbs74FLNPrbtaPfBog5UaPrnxATYBJ5ayP6c\n",
       "iRfTIff077+S5TfjamD7Zfd84/gMsPhVZYe3Mw/oUNMIgpjujp+5fJvDu6eK+kyoj1aiEWW9tpID\n",
       "z+N0Cbl83156c6T8eZd+Eyqct9+yROKS1VMT697nL1wN3D/UnTzSWWuLpNg5Zuxnmc8bEvOToZDH\n",
       "MduvrhZ5AxKdgU240qvFeLKFH13mvraagptYgjeDAGmlmkl5lNk61WedUgXwstDhCLRg2gHb9G+f\n",
       "Q9fJDitSWQl023PBfO1T5ILNmb+RkpA2/G1RGG6hNG0S8gwnOWGvn3MskSOx9Dj88pS2dDLwRjxI\n",
       "RBYEUPKO6luUUuAzaIIK6MkgwchqC16ZSWIKfjmM0v3+qCu+E+KbA+lrwKI2wlvYXZd49x2BTAqS\n",
       "aPI8hFjAlaY/ChfkH2W1HqwV/Evs0vgE9FbdKA/D3txXI/iExv4K8Eekp85rU7LK00gf1i+xvptg\n",
       "G5PTL16Q7Y9lhQTLO9xPOtYvw0PWl8hrFnz2Vdtp7KObG/aJcZNkpq+YPNezUg2E4gJUZp6WwXxC\n",
       "poKMQgLeUeJWbDhwxkeHoDIvZTDXrhQ0CYfKLWy94CPHRaMbcVWMOsUAVjv78o5bbHBV8sgDuKHs\n",
       "0g6tFjkFFN/xaoGzIzXizzZ7T+lFIMundsVGGM1A8DkaGTmG5iK+/hNA22ZG/TD+xfyJL0IwMV7L\n",
       "8IYDilfhZu51S9RHZ4h5PdgqW8bC4VuDokfcV/o1RrSCP1PUtW7k7ZrVUCNJBoJSAIbz4A8YKYvq\n",
       "HuIa2q++Gl9lLnETKLdcr67ZoJhwCXIwPbsjh+a0Fw60Wh6ojIvHdu0VplLZbF3yT/0Ux+a7K4bl\n",
       "sPz/Kyl+52YBEgdgN2Z6jOMpjp1/nuiXH++U1MtqG+IayHcuw/ofjZhgYoflicFVsQqBioeeCl1e\n",
       "Zu8Fp13P4a8kTyMfGofPIoOSDqNyhnGJZ4mECkbtMiROcrWwYNdZSD/zJ8E8Jd8x33haP2Ii5AU1\n",
       "7Im+Mr+8JeMHa6T6QbKKJd8VbgG5WUSnukLtcCy54dio28TxCsgfgryk3y3svsI5ONOJLKkVJBPr\n",
       "By/a1EePh+PR9U/X6bSl9MMkxqDVEKErP3yPWuvtV5sE5SI6HAedEjjZdm+H3WpV1FygoEjKm12l\n",
       "HtldcJjXEYOhIrcpwdshIml2LrN011wRuQ/18ZCw5I4gMB8aBOrBOiZJ7n8HA5O7cd9Gt7hNsE8l\n",
       "hp43cS+uX69II+d1zLBokhED3oUHMjdqoWA/CLZGviG4UleKp2kiv+owB7Q8BRF4zj0q23wI0mw3\n",
       "6HiLFobA4C8ekwTOGPG9Gx8lS7ScqJqUA5aGbb6SMRzLU2yeHzVw6Lt1vDJ3JKJv6YOKIEPbJ7E8\n",
       "FR2zqQRjEM8pUCU+zB0K39O653S45hA61qNORn/59OqHGKbqjX5UmD6jjzRijIs7xjG3VK2RCSls\n",
       "xZh+hLI+NREvmqiWLjQqXTRfaCORe2CuNsnxUECi8ZFCscM6R3HFa0sBff5Mo758gf2soLieiG1e\n",
       "lEHhMqAh8WNC6ELMCKaTSzKjzmJfzH/g424rv5Ii7UVKup+LNfeaWIFtX+C6O9ZA9lXAxo9KA+p4\n",
       "0dkW3ByBl23oucjQcOy+fklDHgV7aiJHQ6f+Ogl+Qvj6CGh+1Trm0lkHftJsie3qIOA1byI0kPLE\n",
       "SJ3RoI7qxKRy8BlCrQ3340QdzeDhpLGeB0glS/I3Z1czHxBDQCQjQ14WeVaZFTqJjq4FbHrhf7yv\n",
       "ST5Ldwh8gX1YeZuFYmd6i3tOMjA3XTy74cUXa8e9VRYimY4tAIj0jidsvH081J8oMVJnxAS6TqH7\n",
       "VC2lV5CWp656SLXSABhFRgpBRELY6GLxtE6C1NdDmixVGpkPoHin2KaRgbTuPu/1x6jNsub9Ipjr\n",
       "Tf5ETQfEX52ddGX2xpC3eyRhiFxLq/l7xNX0/X/MEirSfb/5kI2C1THHatXiDzSgMUNA63GYsdqs\n",
       "LJKWA9q5bEpLpOH0tzoceTSvIbIaLxJae2+FDQ36jbrelcXmRQ0NfS8Xi2L1mY63cd0nwiOgQM4a\n",
       "MAAA22udi3RGJaCA/AI+Q2d3JgFMEDqvyesfQzY1hNLVyhxtSNkezT39WgssLLo3/wkN9v6jvun+\n",
       "bKJD9qnCcObQqhi57wlIOiyd+kl0Lw/clxNDdOAaMXS/tZ6bT8Z3oIlt8BEcylAkwgIuTH8jEFMe\n",
       "xcxq9q8QSfcY5+JaDWgkeO7FlpTf/OPYIgnkwV5981yYi5VSuUBrv+srWKmcxJ3+eQ9Fud6djvEs\n",
       "6u4vXulK9f/TOH1QGFf5OwArxeeGfZKCHaw0e8QizRedsux1e3r0uWXn7QlPuOYPRuLS+wnWtqey\n",
       "MjL1WWxptGvmU17DuVlMoVPYMel5lwPBiLgGUJ1hXE+3WSaX9cy1U6mFIsvgQR21Xm/NkseRRl+h\n",
       "ZPPeQ99hAaMvxFBK00lttQk6wRyEwuii5kvGgujB2ZcZcDmuwj8EsQmkhifhAAAPkUGaImxC//6M\n",
       "sDDpvT55xcC+F84N2jC6gAmeXCX+fMAs3WWOmFStx6EiJlKpjuibEBYXXc9FGfXsEwB/DqY8wHUH\n",
       "ctODUYID6f7rAyUFw3y+OldXRa4ohfiErlDc551gACf9C5N3jiuPkc/tm7YjiLejId28cxqd3pkJ\n",
       "Sgl4YteSIhIojDcPDGtk+POw1Ei2mgLpSPnUD/M2BMqzKFRXrChMccH8GdCrWQbFF7y2zjiZyIKQ\n",
       "8tNEXRr6y3IGNT6tq5CmyhDCegps99Py6plTnzmNDuMk1JONaLy0QNJ+W/NuwfqTcgtwe2i/g+BY\n",
       "Qvny0ZdNYDkHVJjAkDWKEB6obx9L5pt7FsVhI8q10+T9f2JdNhoq+H99jVtrGjVVrn/zNFe9DoD6\n",
       "UV2obtvLAPG8oHX1PS1H1az9MkUcWbTqDfGGwoS/RaJrGHHKT3ffE7gvCCaJhUl/jHyUZ9dj9Ppx\n",
       "qlkKWqxCbm4BXHBMZ4Z9soYIYmXXXt8lyJFb7GDkjMuFTrpFB+wfrPIujuJyF5bJwhC3TSDuNErl\n",
       "LK6jFqP4ydu9UjnRSXOSanDnpAnpK180XUF15BG7K54AsTpVMdFWLJJxusFKq2zyXJMj2cM0ljQv\n",
       "4eViSnzKE5IPMMaBIHgEMO5KXoezHUAb1Hl0bpmHCEJ8hIho4rLj6ZbBA00YxyvkPlA9KcX9N4dr\n",
       "9Pg9R5LJum6019CiEPB8oh3XRCLWKaXgLkd6+ddEUqFht1WvkhCEdP2QeWCjIVQzYQIOBDPqlI7Z\n",
       "i1WsUMXQcI1pLG2BhDYZMBJeI0sSGp9gsp9hoMRuCXJaS3XF+eHpWFvTtZSJp2VuFDUlZ1Z6fNoI\n",
       "djnArvXwmaMlg4b+mUJE+3ZRlAb+rrICmd5QPXdWlZ4XpuhdTWru4+iQv0VUim2vImJmxrfhm9EM\n",
       "DByNKb+lHn0+mWl1NW48lWTB1WHgRLguGGn9mZbW8LKc7qo0k+jzOjsZWFJLZi8rmou5n3WFXNgT\n",
       "tgVNlxgrrdHhT/cV0xWaEicUWb9SKmlkONmHWw5imU/9N4FF1LxAue8RFy209dFjX0wRHPS3CaFQ\n",
       "wEB4ImLcY4n21KLmDlUzZkaRBWCVNbRG8szqUgtYo0RwnO5+w8SUXqZPa+LgAFB87FEKIDtyVnNj\n",
       "wnKFU3HjfoC9aOmTAQSZWJRzRfOavdKPMJ9Ct5QBVzCOACH/gAaucwdBviazYOYghc+R/jx88YjZ\n",
       "rZeJWEb3tVA+kxWHxKUgGKJycPp5Xj01dklK7iDdH8N6bWhZHKHe6SbWRsb3J1chKuAQkoo7x01s\n",
       "eDxR7wQUln7PiD/FkP1rMRJrh870WjklkbEBBZYGnCEXIwaBlYcTJ0aqTUu2h9jttJt/XB5IKjm1\n",
       "uLWx9n/3oclx+hTrTe0QzhL6zquEn3wKLQWSmjMmSVN8vmGUWRiMbGUdz9OEIqE314j17DHYI/4P\n",
       "NY+XpSTERcxuPWxn20FeFMoCM5+HQ31Y+weuFEaXE6sKMC/G+NB3XTp5BDY9IVtZzocnc1Jo5RTD\n",
       "a+IBUPJqTtmHy59SMOWjln51No8hR5N3NFawHjbqbvDeww/UaYPrU3vvQiCCS+WImKtnbOmpEdPk\n",
       "GrZhKssNxTsOIN2pdx4+moN4lb1CwMKX7UF8qCH2Ea0k59KDMfxY5eujtDIPTmcILry5BDwjJUoS\n",
       "xAxWgc7gARnC35UP8+myH6CPBu+gyVfzN/3XedWeRcH2DeeDaIq6J5C4mNUEhAPlpKrbOtrna4/A\n",
       "mnkv/J/tDG5nxKfncM0AB7uPeWuhvXOs7xC0iRIVC3ZyZk8Sk9izX8zOllm8Xrq0RJbpn37djkk0\n",
       "tJW1Yr0rwbUh91/MQdUo/6v/HLrBQ1qKziRCuNRs5Tn7KnlIeW8q9u7nanGgtCZdtLN+S3DbhThy\n",
       "ht7JcK11dPv67cTFjJpxV6WV0nNdnNlI/OcqLQazY9xdo2PsoXzdZaj9Myal7n4ttCrNptcKU0/X\n",
       "gC5la6hYpLTzs3tc9X5y+hqUYPWi2mJru+0U/daD0LZKuuH5553qDC9wE8ImMwRPUouBJCfVw2O+\n",
       "OtAcYWrHctj6tJFmJZ7r1X4mWb+jVBu2H1AsCQOg+zqSEk1K/cnlQ/QU4J/pP8yULQars1vbP7Sd\n",
       "8GOyPopTEKYPRzDa+csJodbtuh7zd1vwF/VGYTvXdv/B5FqcHwEApUBlfe8v8NqphwvS+a57/Ppc\n",
       "2m6AkeltBHggssYt7TcJ47Qcrw4yyh4U2L7MlRMUnOtbjmLpUcykQbcVXtZmwtspEtfsfk7Cqgm3\n",
       "J3eMXi1+HbbbEaHI81Ywu78as9s7wLxeHq9nCKP9uq9k+2ooisPTcObOgGVDsE8M0xq8EoE4/6rn\n",
       "/LFKSMEL2M3Hsspz/gZGajhZXdk74s6iUFfX/MGK1AeXa4m5aZ81BL6FKmroCVSSfNShwTnBl/KQ\n",
       "f7htjxNb4YmazRuT7Amwtl7ObqnkrPxYgCjQdb50IO9m+DeuI4bPqqEOwmZ2Q7j9B6XgTIDeMHJ1\n",
       "8/tk4x33KMaURAa1/zffaN+j1XqxmMqmB4OS+e2d0hebcDXEoTaH+FrKhCzBl7Wi7Xgtpq52GAIQ\n",
       "q/YNf0E0XBNeEfFbfaND6Za3IBWBpM1fmmvM7oADyTF+qYef+n4qSU3zNOpi/0SQmiVkOVzdB4Be\n",
       "5ITx5ls7iYvZov3+PtamJUXVEPURM5DLzdHL22hf77bRWMjjSezlPLfE5RttwIeqTxID9uMYM2qt\n",
       "GCSShNDcwO+ECqhcGA4aprwhFCN+kRG8ZA1NLj1xqwNA8Zez+ogptuqotPNJhk3QeUk9sgoI/ecv\n",
       "g4/r0PyKxV6EzkSlfu73hxr2AfK/FbdwhnINgC5nAlHNPVocs5RrD/dv3/JNKTbFbBG7mlMbZlIp\n",
       "phlf5OtC9oHEtIr0uo/qjSbt+3E+3hyqxC+Qjf9w3Px9e8p2YCxK/KKr2JZXTnfiXAS8J4Zn3dj6\n",
       "NyACfglKx38rpFMxtTunj4koF+XtG4vCHjOOgAX7R+5H9nSvH5mT/cBcJgmGei8OEQTF+fD8J/oG\n",
       "F6REVj877dOzYkBRXTU7mqYTilAfylHp7jPCedQ9uK5PXAPpySe+WWy95S1YPsIFuZ2FlxnbrBvJ\n",
       "M/Hq4cq7zZ+yR/j2oLAvuj4881D6jjhwn9O8fbclg1eYux6gXBejtFHvt19cAdPnAYmlTn4LqXdr\n",
       "9lATDjB9UnepyZ1G534yFWfnEA89Upjzrd8J1K1cS0xTUqKnGorzHvUDRmWFw27BVk+5+hYnbMa5\n",
       "yQ5OtbD6nDSv6O7uY1sEY7dQ5W5ya6yGNEoSxVp4GuvXd2eqEWlD1BXCcWvdsRQknmt3m2+5/dlE\n",
       "gDy3vnPNQqEVYQ+OGHnsK0mX/hxgBIx46w1ODPTmpxmAwKR4nDORbdzmt8vG54TuakLGH8j5a2U9\n",
       "mhoUG/+7+56yPh8gPn1gcGtS/ZjSNR+5kiI8Eh7G52EbaXCOCs2sXgn5HPuIcYp6Ro7cukxUZHqz\n",
       "wrxCXzd/YYg7KZlpyU01gWq/DrSrqWCrJQrOyCzhOZt+QG5vBrWZYtSEbOes8+IJrnKZ7xnsJxzL\n",
       "tJ6UyJB74yQ/6hGTBsnF3pS9em24btcgP4Y5KrbCpiCBPgUuIM8bqL1jeWIWXcqiPY2ET8AI1mA8\n",
       "Z95TQN/M1plQX58Qx9gKEixZhOw3Rupz7D0eLhb4VaaJ9/nEBF3SMpBSFErZXYFfjJhF9uO0QE87\n",
       "1cfNbtJqaHCWke1VhbkJyQaSHS7UYNPb1hn9W2MMJ13nA+5I2OV2fuw/Nw4uGuY+6Q4UVkuw7Jwt\n",
       "eaVCQVWgwLhzNt8K18EO1ppToApuRHpl2Wlb7199YUdGf32iRbkz/jLMagBFvRA+pyZ3RkUff7+3\n",
       "eHqM6vPo5E062jMmwjs83/mfXlf4fJ1r4E9d7PCgZ3QP2879JkczLxreT9ae9bsceKQ8jYWkkQiQ\n",
       "y3fQaXTajIgPY2jjRyYHYPJMsTuR6NZ6+06Z9Squj4GcH/viBuwho0ORZZ3wPZ20nUpWRuDq2nvn\n",
       "xx6Icx9coRpcYnITmh8OwhUeUMEExIPUJQdBU+zGYMV1Yrv/8hm1Bfaiyv+ymzMTqBcWRMGvPU6g\n",
       "A8dnlNefQfQ8ILqAHRu3ezYfM4qkyP0j+Kr3tao+YwGH3g/xwS2QjzIimZBTI9cQvlhF+5CK4tvm\n",
       "hryy/uG15/n2Z6EAJIoJDXq0ucTHQtC/puy0blntePpgRihWvxOyOqCK9eIqhkixjs5Ij1QJsD7j\n",
       "Jf+yBgRxEnvswjyPoiq7W07NKpv09K05OC3Hpd0MQmK4SBKIK31QmoCUv80Ajd23V+KmD98gFLn4\n",
       "ylIR6cECpTP3X9YVwYIkme7ZuhiMxUP2ixtdUprAoOn0d3jAIprAIvboKEwUdwGhvkPdvEDc/GAo\n",
       "120DgzqQ1Q96CMRBVnPx36/B1SOlhPjZC5v4+Nxcgewj9xfyJYh4mDW21JRkmqn/VJydvVokUOeh\n",
       "variBFpIAvW2swjbWyfRYz4MYp0b8AEOOFwxi81Tw6jDv8LOJv5kTkPlbH/POJ2Hl8kwEuSIfmQU\n",
       "aWeDOo6wjbeyhiz4wnzQAt08vByzv7Xt/tosP61qLuz0aKePmT8nzuJ2Z4Kt/9CtmwlaIZ58LW8k\n",
       "qESykzw5+/Tiwz/30U2MJkbOJ/smKui8gOXaPcbb/h5Dhftbbu2EzMBD3yKV59DmCpfMbzQL89yW\n",
       "w3aksZzmQsVSwpy2N6GLqqbq7uky3pNhdWWwUavJuEKvGLjoEoM8MaDXUrkzRlPXDizSDvarDwfv\n",
       "fJ0Y9IlMTtmlEFshF5hqfeha4wPvZpWKsx8CoWEGHTPPTIrMwujjnaDInJ1D7FNtgbFp2vmgcftx\n",
       "oUM5z4D4q7ROqM52/asTNz26MqPKYMVJTK+A6HY9XWnjHOh51TdSVT89be5tc7Ec66hcz4y2YySM\n",
       "sxABLfAqrzFu8bVB2HgXSOWvU2wWmOLeDb/Ifwcz8/INGVGEPkywuGYFlyB4HkD5/o6egfoXVFNG\n",
       "N1GC/LkLdAczvJRjjJkfSi0E65bl1TmVrYqD/4yImx8pP4iovLgx+6fv27o3rtzL+DXGlFW+HMGZ\n",
       "3ICLLEErWbcZZWrVVfPdhDfjVjVAKHQG5/IlZjxukpU4zI2dSLvzUQcqZ6cS1CDXxqLur88V5qfM\n",
       "HLARvmvu7Nz9zzKeh3ywZyTvUIIW7QHeOGe6sbGkIe4OSIVsWLrPNNtUaozbr366RFXGsQIeTy86\n",
       "nhWXbL1V65ZJ7SMTMbDXGwMKbCnMjYQPVdoO7E9m/3HENaEmuG11WdlgC7oAAAulAZ5BeQr/AnaC\n",
       "HBixEZrQATgzZz3+xzvH3GdupTR0gsLzxJAEZLGmylLZ2gdD5UvGzOkrDXXp8jVLp47RE9I4Z8sE\n",
       "eYCbkwJYgD0MRd0XWPqwy3qVj68HyiKgJAo7sYCLSsinSTY5BcsNlsA0XxRvFBm4DpUyk+RNDy4H\n",
       "kQUMM7k3jJGsPSmUKM/JESrWFTRt+5Y2cFyXp8eBLuqVUKek1Bpojy1YJq/et3OTfHFEe216HMXe\n",
       "VNdeNQRGHjBl1Bb2iLYuEPUIqWXLd6/SL6LaNBIwFWf6hYbDLpOZ0ta0WsnbKRzXnqU0+FkwvpV6\n",
       "xSiOpW8MSxZWqLFHp4kj9HLSJY/OfAPSYsY7pvpGd7rocw2uTlqVD8x2VBpwMO8OF8+PZjBTdmQC\n",
       "aj2XiSC1TS01ullPLWEvejUCZZB9JFD0fMFWatAN4iiej2f30Y4VgqKgzuN3unhdLfkIV4RHmxZd\n",
       "z0vbp5zFgLFnzTsHRiVEUltkSjC5AGfKKR6zIm/Zldq4HyDOrN8UQe6qWg4WQJXjqUpUVuPZlDyh\n",
       "7xTilSwTqOtE6pOrtsUOGIzH8YUfQblHjFxDiXilYc5IHN6+5gvV/ncZn36F8d63cWDDxfx6iNsk\n",
       "WyhBERmXTeCdDZ0T983sl0AgbgbgvKqNcrBVts7KI7E696zLo8l9acif+X28LVodHu9aAKfntV3d\n",
       "oNJLdaEajo5UFkapjBWgCca8bc6lF47sHjYwju79QwmITyhJ1s4Ymmdo44TPnhNIW3IFmZrTNdDe\n",
       "+cMttf1kc9vof1+M393DDBAIEL/nyE/G8zLCw0ok4PJD7qeJrNO8HIHwg+AHCR0BZhezvnzvhEBZ\n",
       "aHugCCCaSLGrHbfiN9To9a6YChlJGyMdoW6m+czDA6v2iA3v8HGUznjojCXsCGs5DlyKxqKBExCQ\n",
       "YDPldE5crp7RRszbdUOtSZRsP9LuGfF7eWx7Aww7vaYVHaJM0LPxBwFrJJPJQ+T5qznx6N6BFv6X\n",
       "bEKJLMGT59T0JBwbJ3VP7aF6X73p1onIJ4ZIU75JhgtTT31zqKNh0Wh8bNI82b+wn7vvWpOukLqd\n",
       "Gj6hIblHwFbWVXmx78wf4fK+dB4L9rncZxpPghbEh9fhXcD9glqMWIZRTF1kzGZdMF/keGPk3O1w\n",
       "Ecem0ODXCJx4x3APKcGH0U/vWoGu75xJ5YAnRcTkI7rRoIwqDC/j3BrFgPGesqN0IiBFQtWS3rBC\n",
       "w4rTh2kQoEHGQZ9EXdM9LY4xS3lWS25qpGqMPIIjhkHvSmt3w06ggxOAwVAZgNOS6SkuXAGuI9oO\n",
       "6sxBzQRJcwHGKIOgs5TRCOJGCaf+r3vNrbb6o9LLdYZBKy9k6JHDq5YhIErIzce9XqV0xj9G62fV\n",
       "Yu4al/yvKbfUCGqpFLy31gxschR4A0DqpcBOkjYlVqJ3OC4iBLaWizbBEYgQX3M848SlOfjHRWsr\n",
       "LNI5GzCevTUSYR6z+ONuUvG03fnZLLsI3tcEppZN1d04WZVG5Du8pXdq3M5/GkfXI1ZYwTpYQLjB\n",
       "pcF3Qt/JmLJRI1AKdCD0I5eQCo2qYUD97jqU0d3nxK/biU8bFsTpT43Zj3o82Y1MZgXEXt9/GZ2Z\n",
       "J+Vo3kLD6FY9p08/+0Cx6VvIWLqF0XJtC5NwW2qFPM9Y+Rrhp//HcmjdLsx9N7plr0FKA51d6f42\n",
       "A6/MglUtj1EB0xbiX+sO2XBiAvteJ/WfdOSxQTiY1XPjUewEJrYrI+cTKRG4uzd6/eqNUrxSbVKy\n",
       "G+i8FJQKqkhWvZvmR8JVQBVC/cwIJSwnts21zEGFbQZG1G66TDJlsiCg9ke+eyGjAsnOhkFSqRoj\n",
       "+oXDUfh7U4Z9xs64nw8oBF7p+wNKTsxirvQACY1ymowbMo/Y3s77K0ALF5Xd62RVTFdrDBJlHB/X\n",
       "GR5VaDOvpkAvvkkznqt/aP/ZVVuRA2gTOPZyOeTJrPk0Oskz6Zoo3AKBLz11pQhg0pC+XPEXuE5f\n",
       "0R+i8PufhdQm8ZqVt//8MeZhaEoh3YQ7etQMm6Z1iaoCrCkw2bHpw2MYuQ3Cuh1m5C2uQHFTQu8+\n",
       "v6rFa6yUqHRo4ucyd7VibyhsR4/lgLvlPz4KbbdT8dGDybyg2XR6s0t//+9yH7WBP/g64KyIuo+Q\n",
       "iwZ3PuSnspy7P2bpYNdZL5WXkXP4mapU/J5JNzZ8sjUx+dxgFE53dLEiGqF7743m5xrMVblHFjf4\n",
       "hpUi9H1RgPlwzY0AF6p58TnKm0x9kHZtwHazr0lpWj2FT8I29uekCyhkSvr1MsCQHTPV7yen9eXY\n",
       "1ifBptDn6R55p7LOQw3KwqP83nz7zEjZS4/pLW52ChvVdKBX0VVPkEJnRY8MGGb7kTn00ThThjEP\n",
       "8vg/iwqmK4KJrOR8ZZK4Y05aDTDQ8gzaSKhATMY2dOw3L/rM+iXD2AsCtME/UjNyVvsnRiUkhR8L\n",
       "JjH5jYELD7X6fwJDe5OjHoFFjWGs99LArgnxk4Y6tAlJHwi134oyjj2hbUXO19wdDJqjdLdv0dbF\n",
       "meUdL9AaIkFRDBZOm0K1sY3cCSJkc/yJAz5bpdrRiMT7kfTgSUwEgNlunA80nNgjV2BceKe/8gAn\n",
       "ySmFyDuov49zewVNMW/eZaWcuKisgpAVL1FlsCKb18lyJ5nDa6Hq3ftsAxMLna2Oz8vuth080BMS\n",
       "57nwnnQOG4HplIlH2OOR4ySe9+9O0mvgAI1OtRDnV7CkXwsU+nxK+IPMc+VggNdvofgKsxfVYtoG\n",
       "qNDV/Yw0PTQaWEEJe0qSH3FRg+R4ApmXPBH2yeeMIf+/8YiNOtFqMG91WK88UtY53vPPlYUf1jSP\n",
       "DBe5yBvxaAaOGRzo9u9HbaJMVJLB6rGMY/ER6+IKIY+BN/1paiBCjx2OFAJkYGPJTVamzm82cYGp\n",
       "fGt72kMFu0xX13DhcjLqHCTSUlZkPlwwEY6jo4atETY6RQEyOirXsUtZcM7ma6xHRZX4CzJGDltA\n",
       "aXX15FxvDhLnZsCxWJvXfrK+ZhzZM798tTQWv/Qubwwx7fSeAgmT59oLkISDY+sRIqBKjTDrNdC3\n",
       "PEGOI5x23a1mfnR5LGLZoIBb2AtmS6KUjYBtWy60VBHCOorSrfYTzpT9wwgkU4xJXsYVF0CM113X\n",
       "ZVp9LDLc523OSZzUKTya6LvijGE44no7bE+QntV8GYmS851HKwBIqg1WbdQu2T/6+eU5cQks1i6K\n",
       "9oKiWSASfmw5HXnPLvoNgLqW8M7iEPSWpX9oHXMte1MTQ5nf6gCwSGJRGfl1qgeeqLh3pu4b9lPA\n",
       "Iye+HFEVWh/mhmQ+rUu4z+SCtFV9Fc84fG4dQVzj3rGZzg8k6CnV15RzEbgai1XbjB7SCPu9hxve\n",
       "BeB7RVF/S4nQxheIwSbDDYNucgPuLrQsS7yI95Qc434Cq11HQOAZ9HqgNyalulecWE/OkuqKFwhv\n",
       "tzxdzPf8bArmfCdAKh+LV0pOqgM5UIrJ1HTz+Q6zNKNDXHQe/avAv0E0Fx9CO6mccJwFBJaWfdT/\n",
       "UY29UfmwFtVzPGM2DAGrl6wGHFDmTIeQpXz7KVT07x0jdCT8ujBVDwtRIfR/lwx46iQ3pUt/7Wp5\n",
       "3JumdyOA+30yd+zuGi71J8FSetNptMT60E7sEYZB9rK33d5YCZldT2/QyeQ+WZIftZuwfzfod6ta\n",
       "SHwrY0slXeKPwp2VxiO7OP1lnoysEJrcOM2VyNPq7AYums4LmneNW12vsmsr1MjlQpv9FjBpJnF+\n",
       "SKamO40Lq8Dzi5oWnisbW2CxtuvSHV4iYJmJqB7xv3mw7VHgkRJbpW9Sgd3q9efWpYHXVeWWRNxp\n",
       "8jjF7YeWJKq6cOYcl28x6VKJX09UqJTyAxPXvzkYLor1+eHY0CqFC5EJUt6Ko/BhVgwhkEdyxclo\n",
       "QloPw6B19K3RjTqwcvKYpJDL9s5UC3Bt4ZRzlGJHN31Uuru7mmgvvCWOriWgb4/qvoiWN7ByWpf8\n",
       "Z822ks6NAi8AAAfDQZpEPCGTKYQz//6eECPQnSisu4WxRqoTwgOr4VhF0g+xW4xkyR6AmWqFx61Q\n",
       "OQaU5BZwA5rfShLX/ujCuSCnadLLvykCRup6oFnElmsxrT3v7DaFa9FGz/hVdbVb+aF4zDwsMEDN\n",
       "IKTgi5Hn/B+DSfsgRNfZCRDOir6TRgCoD8ntuLFGL0LrP/5sz8znIaVv44DseEWlj022al2S+tU8\n",
       "5Zb8zcr1FR7le+4kFb6J7jev3qowVcm95honcLhfKcxlPjRktC3g+Q5EeQkuJBfYtgbg9MaVDrGk\n",
       "4aop9tcwiv4YZzeWiF6Cr9qmrNiZKcYLtrZHFBQdF+kffQUtaG28yb845OTW2qwqX2v8DGfAEpPU\n",
       "vYXlfI+hYQv7U7Dfx5KWFLQfDUs/wHOutujkuSQQUXIoVw0fHamdlY3poW/uHdJOdGobkxj84ATn\n",
       "YYFnCYqAdXw6v3tVMAbQtpS2qlGEP+1QQpjCWMi5sJ0TXMz0TQ4YDnFKgoz6SRDBmymq7NS2k37n\n",
       "epY+EOQVXOMJ1nUGiNbDa2cLXUizoMOV5T9EKxH1znU400SLyrgAjcZY0MwDWgFtlH8K32nlzj41\n",
       "PGX/8guBD3GGFJb6bkEvYVZoPmZpDlsWGSOMoqJ6k8+QLdTJsu1KjDcMN4qoqWA5adI1xLYBAKAq\n",
       "/VmZDm0ZIVQ66AG3oEXHQCzUj3WXemXfwqlk9F1wlLtvpI4GvtL+8i5oqyCMY9fWfS7a0iXcZOln\n",
       "oG77SF0MTV3TzlbOuMKp42Atv8/qR/DlQx0QR7bguISxvfejb/IdS5MSbd6imcVcqyxOOceKtoU9\n",
       "au4I2piAuJdeNNcAlhA0Kpu28AvfKIpZxz9ggIodB3qdNzuWACppWhctnnfgfk/CrZydP7e9dWar\n",
       "dafj/CysZMb3pijqy6Ph6YwRJ0MVjLQyTufDWbQugiDA3wxrTgUpcMidykxSjcpGSHPKRbOJ0oxc\n",
       "Fr1lkj3IkRADm0DnBpgOOji9vcXpYJmZwXwq2gxNYFbYcQutDsRVC1HFcJjojk4Rgl1zxmIKbXcN\n",
       "Sh5Oph0cuN3aFmkk/pEB5Qdnwr1DotWjQGbylOHEOIUGePxxoWVVPXgEQc7SaHcH3q1DvNTSplUi\n",
       "Gz3+UuCpz5S8712jtQUxvSIDW6e6G03F2i7S9uIquadyOx9pG2mqtHuPIES5Xx0GYabpldh+srKb\n",
       "hQEOID8HUDJLBzeh+mWDe3zA/tTXk2qiW/bVXZuGydDqtY8SwFWhrvkSM7MvwowEs08WGISbx6rW\n",
       "PySArFSdgw10uqKG3siE+/CccUDhQPjQpvuSPDN2dU8OjmD3BpHEx4sPJzrb1fVK1Q4SzUWgFV/1\n",
       "IO0ot7FtGFez1gCQtWShFwHZON1BqTwK8j4CuOXYPRpezphUuBakheFhhhyAx3HNi/Sak2nTOCOI\n",
       "r+yECnN3HID97PJPNfDCrdgU5t4Kq5ep3iHqYUq6hZuvwkZEKyeF3bfzr6fZSnnJlPfItskpicgp\n",
       "sAbqCPX2LmXFaVRRrO5o/t+SaU/upPTQdJIYYjmen5lFCGgtHOvnxw3ezi7LK1lzc3PTg+fXmjts\n",
       "jmIHrpqlqfAymDgNML8nD8FaTDUPJcZQhPZUv9p7n/n5lNtuwugFzXPTfikklQ5v/ZRXC8do87Mr\n",
       "iFmwX0vY6ZrQg7th1dDa7aAvrVQqSVi56Q0GcR3dUpQXGtPoEcv/8ymPD1y1UDFL8QYBBLpKAMvw\n",
       "lwy8NL3EqHZbQkknzbaPsLqqEV71wDDiy2OhriKci5lLLj2pjn2xJYCn4gsek5YfXM5ic+2Ku61/\n",
       "RyytT/a1Hu3yIgO8c7pK2kGNaM4dZHUWiCF+EdxQXBSeGa5O8Ayd3ktmwk+By09hj58MvwHb7VNZ\n",
       "MAlBMCpEBWWmv5CW+uC3HoI/wJiExUwQ+5h0myMSiQ3e6FtaF4NEo6BRSO9BK3VrbRRKI/oQNNae\n",
       "AFOiC6QbsGNkCcK7MpQHw2CHr7hfYR2fp883YuigW0DxKHqiczH2OUGkNwZNCAqpdy1BA0fVxTDJ\n",
       "pmKnS+xcjlwV4IEw2p4wc5QQMYcLwLnxobyArrkFDi3S4xxo2K6B0E9E9gHl8HAtaBGSwON6NZf/\n",
       "AYmqOEOiSMqag2VsdC6+dCQcBFJh3bIny8dWdTQ24tlnfJifD/8ejb+RgvA1p1bPOVWZFapXh5jM\n",
       "EjTmRvONmnzWqA0Pfx/gSkvPi1jwbIUPjYjZqX+mfQc2skPDBjWdNN7DdG+jCjmNzrsuCH6Wn0Md\n",
       "rvMZFyKjH2SLpkVznJSlVht02oKuanTURMGihFAuUqde0XwWtPE05TYNw6+IegFhNEW83pq/LfiN\n",
       "iLFCHtewwICKjxAFIy2h7Sba2QELp2tUKwuvZOqJu2C8kG0V9V82wVAfQnY8nBNPfVJ+5Rfa6urE\n",
       "IO+a1p98ZQyow7ztKI5HalQC+bGZUFKbiCtZNydW6fMZoUQCsLVDWdEE0YTo4gqZt+nVks34IYN2\n",
       "D2hNkNAv1r7k5r02/qZgjsDTS8Qz56flEWuzRsykwo3OlLxvqF6JKVDMtkAYaN0obBiJOFgnWor+\n",
       "4p7EzKaJNDN4h63h+Tc6GB323ntQ6uEVq9ffzjIG4YLTP22VQDtwYSmzlha/br0uLfYHJLI3Xzex\n",
       "EzaxsQAABd0BnmNqQr8CkV0tbPhb07AfjixABdRy7h+LJbSclh3xqlArcZGEZ4px6WJbm5JyBFHW\n",
       "fSzZgjtyBuqy1Qp0E02t3V6RmxBKi3Nfdr3R67Vi6kRK/IZtiyPnMQsElDgJvV2/AEL9ZXaBtcfZ\n",
       "bnXiaR/krfivZWoZjVfLhy/2LwFQwGzSbHlqX9kmlOMsxVYCHzx20Z8Llb14U4735+GU6SaHzYUn\n",
       "dY0gp7YsQom8xNmV7U9y4t4jpe2C9Tr7uU4d/02RiVuKgKZyvRlJGPXXaNHSJcjg9IGE7wnYG/R2\n",
       "ZTGhUOL6F2bNjuSdjclHChcp13yupa/SRPzaUFTxZ/tu0idGUpKxSKcp0EWa5WqsVEA8UYfppuW5\n",
       "WDXscHyaicG+EvmYQviJ9pEgLru/eDY8yfmwJqxiWARi6Mpkk2qn4jh+Lh25Tke9TuCsV1kLj9z5\n",
       "K33RxgnsbJgUJJDWhrEBjyfKfHvdESyaloJdWsuiCYghs//9GwDskYNvB67gaxRYvs58dA+TplFa\n",
       "uTxQMMZ/ojejwfbwCfnR/7j0eKIlNN2j3ASo5/hOUadU8QTAcabyLtCfsUlsywA1iv2YZZaJfKbm\n",
       "u601VXxWO5lpUheTABMg3KzQotmCVbpBiu1nxU+47NrNYKB5kq1nZGZf1NWTrdl8OpDbLYuG6Y88\n",
       "XlVzr122Qw6X1SdyZp/cqgiMZfwM26sHyBTKpT5OauVxwOi/htXYr1hIyvM+cbJ4+MD5Rjn20O7F\n",
       "MZPmpWtps6OyhfILN0QcCwseZfRXZAxrpwdFI0fsHJkR8Mkm2F5Xju9przk+s9AWG2jJ5kblP/7G\n",
       "bbv0iD+WpGFPGDrjYE4VGdwn3swxx8Qo5v4H+BEP6EUoQ/+FmqcpjQI+QApww2AyVdijLSwpSIt9\n",
       "ldrjK0rhmRmaLAWn+dUPL6HVWONjGx6vjXkvDBX5ZSySPiFJEDRBdmCiTTjcIDW08CoeYRvIq6hC\n",
       "CSwrkpOa+Yj+OeW09M1tdM4E6OxlvMi48j8Rs8UYE0IFd9JQZeMxFrTqUtc3frIUXMPORCx7QILS\n",
       "XKEL3/b9azuB0AJWWjRsDeCzwX6xtcTidREZ5h0b6+ikONr2RuZVQnUWV1yARfzwECl8g1RlOD1B\n",
       "0Xt8iOTIHkb+bpVPnRHq8IRBqo7vc0KSZCJDOjNulEc3E25Xhat7PFI984DYzDuXs31dmvv2cQzl\n",
       "6RB5YbJniSPMC9aOIq16hwrAYMi7icEnEC463VudT9HoRFL10nhuXBwmzotWI2pd7K9brMKH3LXd\n",
       "31SinEwzuvjaZdXm0Hz0DSB+wlzHQX42kUSZh+0pFPrCO0NXVEndbq7ZzHzj7svrCCGPZzjqZdj1\n",
       "wTtCynOerSr997F6YiNt1LlpucB2P7klQaIhoZ5rAcXoheNRocYlPuGFQXmjVsuhH5gWfiWv0SiS\n",
       "tqUGG2FcQuX08Fa2SlrHXZmrvXVTBAou2EpGoABgClV2mfatHrUqDs4uCYAO+NzY7nSvf3eyORr6\n",
       "qM/OF5wm4RqydVpT2klBirfj+jLDq1I9miWcFWRM+Zcgx9/p1MgONkWTzQX+x2KLhIda3xJWv5qu\n",
       "roVgp35DczVeJNbaHXw0aCTWqUdzTc4fEZjcTUGQL8Q6FseAH76hnsE5eHJ9Gr/KqNkKFR9ATsp8\n",
       "gN5pTxOd7EG2je1liT07Pjw2IdP1S3VZ77DpK7YupbVtFS5TGOrmiYGc+Fruju6tSTgJ771QtAHH\n",
       "pCBbfl8OC4wqBQjQ3IPVZPEgaqUtj06DTQhBpUlZlE+pw2wyjXu4wMve9Cyjcr36trfNRvC7Ctko\n",
       "eejzrc1gXa0/0cXfnDARAEdPGzcjH3D4Jq3YUJHWqKDoI5r9AXO2G+wNLk9IFRUFQhOZpYAESUgv\n",
       "HCN1e5POY71LzJAOZ9EvUmrti9Xvnsidw1MGaVHHtFy/1gTmSRILRjFeQyoR+oiJo7gf+ONAqEjx\n",
       "6p3ExaysY1uHq/mJBQSA2Og04x8SeY8mLBbpAAABR0GaaEnhDyZTAh3//qmWAMK4mqAHRGjBV8BV\n",
       "7WP9BVRgv7dUzTK/D3qvS6mxGVPk9ZXnAwT5ly1xuKLWD+e+7xzuriOd9jBbG6EVriM0jxpJbJ/g\n",
       "mSl5oMNtKc0cVL07ZyUXRw8L155UH60aovfXWYR1ZBp5asbk/meg4yFKMbC6rAFjs0XKvKAHrZUE\n",
       "TlqMRFTj9K4cT7+PVv+La3M8fTwNxSvCogQKO0Hh/YF5ztcLYzpqsjrDXD5qkRK6WXDWYof//h+X\n",
       "0gHpAzhpU8rmkJILEmP+tKj8/vV8ob5UEflGsSP6x8+IVHdkI0suq4eeAJWtJdm0uM3ru1oYiJu9\n",
       "59t2OO9OjbX2USy7qXlQpTW0Ja/2rZivAjPhnoSYkBUUxxD9bPPyUS+NB9IvcWQ6ZwwYeErHZ3Wq\n",
       "cz5Bg3daRkHb7vk0+d6ygQAAALtBnoZFETwz/wFvTU5MGuKye6ZXpKAGWWxNQB1hNydla3i58iPY\n",
       "t1AYKSPXROLwAv9tL6mx0vypvYmATPWnah/JTevZH9IJ05m3pjlBV3DgyCelH/9FYsgfc0sKCa5C\n",
       "NdszbBVBkhO+vsZZXRNkk3p6iZHFsZ1WiAEsxQWvcNJa8Q+vkCDDXXn/Ogy1RS86/M92hUt6jiGT\n",
       "oW8qB+LQBHgPCC/x7x7LN3GNhrqW+ETVJMa2urUN/pBObp0RAAACBwGepXRCvwKP0NdVqDmVxREE\n",
       "a5viH0HNIVigBMjOm7qY/0xg4pxVK3xLwlLcb2FYM3oD2XHLYcELe/rH+Y7aW11cjfOmTh68gROS\n",
       "bxHrPQcyGXbsSv/otH5w5jnHyVkiXV9WnmMIRZXYO6ZSNoFrrRs9B7yHmRgEMX9K4B7FSJXo/IIz\n",
       "ZZIf+MPB54NyOlaqLB26J1BMq7wypPOh925lXc5bwrh8TL3cJR/TD6cDlWx+yAFaXU+u/uXcVBEv\n",
       "iR/cOkk3yUWUizZp8mfP2QI7QkWtS2TXGUqahfnvkFSRtIvYjQUd9zUjexobKF/ghpWtOvBYGDB0\n",
       "HBK4fJdGQXPJL5EdLIXk35JmSKilklvfxAQI82PX1p3wXC84lnIUxwf9TfI3RdoweNIGiOiA7QxX\n",
       "eLm4v/BO7VOaI77bFI+Or5bZKaT310NiHvk0I5XRX6+InkNdctIAlK1aq4jUxzlbCzFO0f+wq4/Q\n",
       "DXhnM2uRPHopew9q1W7rqP10FLa561+LWkthv/nN6axassj5/1Dj7rb0qtrSF79nUkgEIgI/e4mU\n",
       "FmxIDckQB5OtKN22aq1LKl4Q8W9ElWVTl8JQ1+pxc1jxzQrMPHLmEVbgkS4IgrDdOLupC2l5rluX\n",
       "JU0p9dWquxZRrtW2twaaiKlgmGvDtbN771rvVEOajbBfSqwA5A5+9owgJi2VdwAAACoBnqdqQr8C\n",
       "kV/qQHgu9I0X7WfC78mQAfHk9nW+i8hAQAkY5tsYTV9gSA0AAAB7QZqsSahBaJlMCHf//qmWALCO\n",
       "pS2q9MuCUWgBXUtK4nh7Ww7NYZS/kr/uJAhsQ++Ea515eybxGT5BouFnpI1JN0mawTkRWiH7B7f3\n",
       "eSAN5fqqSGXgyo/+GgWXqJNXXZU1+z2ed1EO4+B7/ttnXsSWSfuG9SZq5VxhB7u4AAAAIUGeykUR\n",
       "LDP/AW9NTmHIDhbfahu8RFF19AGSICRhdRjpgQAAABEBnul0Qr8Cj9DaJydlLyAm4AAAAHYBnutq\n",
       "Qr8CkV/h726IAQdYipEyLPtkefRzUnM8m9esGdIloysl61v9pxQqZHHt9ENeLezoaUH9K3HBsCNL\n",
       "SJuXMEtnWuJu/8VHWf4pwntwJVcHzr2gcP3DTKoqJHec19T+ARCP1dpn/hg/Dhdb1QQd1Q7QH8sb\n",
       "AAAA6UGa8EmoQWyZTAhn//6eEAALoWQuAC60N/9MFPo62fyBRYyy8bmXcTip64PGjuw4uoTb1Gdc\n",
       "+xR+KxwUL8nJ63O0MJpxliuCGTBAJwMrY8NzoAELGws7G0JzsT7MprMosh6bt69Zmx48/FzCjfXm\n",
       "A+31OYbui8ncVCqqIityDIi6KAFkiq9m/JdU/Q2EU1/bd0xFEhEfgMwuD1luxp+IlVv81Bw1shlv\n",
       "rDnCG8TgnkcldSo/dG2B/mMGNpLfNUzxbfEsKEGZctg5KWhT3qWG3XyIE1zhdt+qyI8T4a+6yJSV\n",
       "ZVVK4jH5l/EhAAAAd0GfDkUVLDP/AW9NaQZjexYHbCB/HKxkz0HGzIR7gf0/3wAEyc+odaDuYHOJ\n",
       "g99iK+ehMvWLafmBP4Hced+hq8u8oWt+TKvGyRef/npMFhVm6wbTMA0Zdn/kkB7LRGuDBbSgf1Ux\n",
       "9uxfrnavPHsDjRibJrlPnVNBAAAAGQGfLXRCvwKP0L2JSt80PXlzR/MrdjFRC2kAAACkAZ8vakK/\n",
       "ApFfzZjURA4uhACRyEUeuvA3MOyaGUOhPMzgB1V4cN5R1HPbHzejP+hUIyiaCkSKx++gixtywtsz\n",
       "3MjEt1qJpb6uL6mabdJHUnxtdN1VK1yen8/a7MYGmSyumwpoPcjIpZpqWFAA72691PYUphrHRIoM\n",
       "DOJxJAXW12QHGbWxVQd5HiHw/VZRt3LxOlED4BtReQ/+oR7nThCOsCGqz4AAAACCQZs0SahBbJlM\n",
       "CHf//qmWAALx8A2btfvwiz8mWf35XygBWIjIXd5dYkX4n9JhLLqa+QcgG+MRTlr1Ih0qx6QifyUA\n",
       "RUFHUa4cGYPmNVUDkhdmC+RGBxD5nEdony+nOahdy/P4Xo4RwPRV8S3PDJosvI2K2Y5nKqRnrvUC\n",
       "5f6s0Zo3GgAAACNBn1JFFSwz/wFvTWkGY3sWB2wgfxysZOIu2a/O+gJ/sHLb0QAAAFUBn3F0Qr8C\n",
       "j9C9iUtMb9hCAIG1gBC7Va8pNSOlYwg1at8usYjwjM08bOGuPFTQnhKDCpFE1LShcE4Gljg2iPd2\n",
       "p+WN4LBT/CHI7v4wy4Rt9Uv+g0PAAAAAEQGfc2pCvwKRX82Y1BGCZQbQAAAAM0GbeEmoQWyZTAhn\n",
       "//6eEAAS7hI9+GkYALOX2x5NSbqEywC08wgR3224x40FiEzYkWuzaQAAACRBn5ZFFSwz/wFvTWkG\n",
       "Y3sWB2wgfxysZM9EhET8JBUH7psLsrYAAABIAZ+1dEK/Ao/QvYlLOa714AIg//vLckaopef/oZR9\n",
       "oUok12iF3+ER4sC/c1M3w/bZ2dcw/FFKMZ0KMg9EIOgugW5CrEMlhwWBAAAAEQGft2pCvwKRX82Y\n",
       "1BGCZQbRAAAAE0GbuUmoQWyZTAhX//44QAAAHHAAAARmbW9vdgAAAGxtdmhkAAAAAAAAAAAAAAAA\n",
       "AAAD6AAABRQAAQAAAQAAAAAAAAAAAAAAAAEAAAAAAAAAAAAAAAAAAAABAAAAAAAAAAAAAAAAAABA\n",
       "AAAAAAAAAAAAAAAAAAAAAAAAAAAAAAAAAAAAAAAAAgAAA5B0cmFrAAAAXHRraGQAAAADAAAAAAAA\n",
       "AAAAAAABAAAAAAAABRQAAAAAAAAAAAAAAAAAAAAAAAEAAAAAAAAAAAAAAAAAAAABAAAAAAAAAAAA\n",
       "AAAAAABAAAAAAbAAAAEgAAAAAAAkZWR0cwAAABxlbHN0AAAAAAAAAAEAAAUUAAAEAAABAAAAAAMI\n",
       "bWRpYQAAACBtZGhkAAAAAAAAAAAAAAAAAAAoAAAANABVxAAAAAAALWhkbHIAAAAAAAAAAHZpZGUA\n",
       "AAAAAAAAAAAAAABWaWRlb0hhbmRsZXIAAAACs21pbmYAAAAUdm1oZAAAAAEAAAAAAAAAAAAAACRk\n",
       "aW5mAAAAHGRyZWYAAAAAAAAAAQAAAAx1cmwgAAAAAQAAAnNzdGJsAAAAs3N0c2QAAAAAAAAAAQAA\n",
       "AKNhdmMxAAAAAAAAAAEAAAAAAAAAAAAAAAAAAAAAAbABIABIAAAASAAAAAAAAAABAAAAAAAAAAAA\n",
       "AAAAAAAAAAAAAAAAAAAAAAAAAAAAAAAAGP//AAAAMWF2Y0MBZAAV/+EAGGdkABWs2UGwloQAAAMA\n",
       "BAAAAwCgPFi2WAEABmjr48siwAAAABx1dWlka2hA8l8kT8W6OaUbzwMj8wAAAAAAAAAYc3R0cwAA\n",
       "AAAAAAABAAAAGgAAAgAAAAAUc3RzcwAAAAAAAAABAAAAAQAAAOBjdHRzAAAAAAAAABoAAAABAAAE\n",
       "AAAAAAEAAAYAAAAAAQAAAgAAAAABAAAGAAAAAAEAAAIAAAAAAQAACgAAAAABAAAEAAAAAAEAAAAA\n",
       "AAAAAQAAAgAAAAABAAAKAAAAAAEAAAQAAAAAAQAAAAAAAAABAAACAAAAAAEAAAoAAAAAAQAABAAA\n",
       "AAABAAAAAAAAAAEAAAIAAAAAAQAACgAAAAABAAAEAAAAAAEAAAAAAAAAAQAAAgAAAAABAAAKAAAA\n",
       "AAEAAAQAAAAAAQAAAAAAAAABAAACAAAAAAEAAAQAAAAAHHN0c2MAAAAAAAAAAQAAAAEAAAAaAAAA\n",
       "AQAAAHxzdHN6AAAAAAAAAAAAAAAaAAAbKwAAD5UAAAupAAAHxwAABeEAAAFLAAAAvwAAAgsAAAAu\n",
       "AAAAfwAAACUAAAAVAAAAegAAAO0AAAB7AAAAHQAAAKgAAACGAAAAJwAAAFkAAAAVAAAANwAAACgA\n",
       "AABMAAAAFQAAABcAAAAUc3RjbwAAAAAAAAABAAAALAAAAGJ1ZHRhAAAAWm1ldGEAAAAAAAAAIWhk\n",
       "bHIAAAAAAAAAAG1kaXJhcHBsAAAAAAAAAAAAAAAALWlsc3QAAAAlqXRvbwAAAB1kYXRhAAAAAQAA\n",
       "AABMYXZmNTcuNTYuMTAx\n",
       "\">\n",
       "  Your browser does not support the video tag.\n",
       "</video>"
      ],
      "text/plain": [
       "<IPython.core.display.HTML object>"
      ]
     },
     "execution_count": 25,
     "metadata": {},
     "output_type": "execute_result"
    }
   ],
   "source": [
    "fig = plt.figure()\n",
    "plt.axis('off')\n",
    "im = plt.imshow(makeColorGrid(grids[0,:,:]), animated=True)\n",
    "\n",
    "# The animation function: called to produce a frame for each generation.\n",
    "def updatefig(i, *args):\n",
    "    global grids\n",
    "    im.set_array(makeColorGrid(grids[i,:,:]))\n",
    "    return im,\n",
    "\n",
    "grid_ani = animation.FuncAnimation(fig, updatefig, save_count = len(grids), \n",
    "                                   interval=50, blit=False)\n",
    "plt.show()\n",
    "\n",
    "# To save the animation, use the command, placed before HTML: \n",
    "grid_ani.save('Fire.mp4', writer=writer)\n",
    "\n",
    "HTML(grid_ani.to_html5_video())"
   ]
  },
  {
   "cell_type": "code",
   "execution_count": null,
   "metadata": {
    "collapsed": true
   },
   "outputs": [],
   "source": []
  }
 ],
 "metadata": {
  "kernelspec": {
   "display_name": "Python 3",
   "language": "python",
   "name": "python3"
  },
  "language_info": {
   "codemirror_mode": {
    "name": "ipython",
    "version": 3
   },
   "file_extension": ".py",
   "mimetype": "text/x-python",
   "name": "python",
   "nbconvert_exporter": "python",
   "pygments_lexer": "ipython3",
   "version": "3.6.1"
  }
 },
 "nbformat": 4,
 "nbformat_minor": 2
}
